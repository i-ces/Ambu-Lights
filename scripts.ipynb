{
 "cells": [
  {
   "cell_type": "code",
   "execution_count": 7,
   "metadata": {},
   "outputs": [],
   "source": [
    "from firebase import firebase"
   ]
  },
  {
   "cell_type": "code",
   "execution_count": 8,
   "metadata": {},
   "outputs": [
    {
     "name": "stdout",
     "output_type": "stream",
     "text": [
      "Connectiog to firebase....\n",
      "Connection to firebase successful.\n"
     ]
    }
   ],
   "source": [
    "print(\"Connectiog to firebase....\")\n",
    "firebase = firebase.FirebaseApplication('https://ambu-lights.firebaseio.com', None)\n",
    "print(\"Connection to firebase successful.\")"
   ]
  },
  {
   "cell_type": "code",
   "execution_count": 15,
   "metadata": {},
   "outputs": [],
   "source": [
    "def returnMatches(a,b):\n",
    "    return set(a) == set(b)"
   ]
  },
  {
   "cell_type": "code",
   "execution_count": 10,
   "metadata": {},
   "outputs": [],
   "source": [
    "WRCtoArchalBot = firebase.get('/routes/WRCtoArchalBot', None)\n",
    "WRCtoMustangChowk = firebase.get('/routes/WRCtoMustangChowk', None)"
   ]
  },
  {
   "cell_type": "code",
   "execution_count": 11,
   "metadata": {},
   "outputs": [],
   "source": [
    "user_route = firebase.get('/users/test@test,com/routes', None)"
   ]
  },
  {
   "cell_type": "code",
   "execution_count": 16,
   "metadata": {},
   "outputs": [],
   "source": [
    "WRCtoArchalBot_check = returnMatches(WRCtoArchalBot, user_route)\n",
    "WRCtoMustangChowk_check = returnMatches(WRCtoMustangChowk, user_route)"
   ]
  },
  {
   "cell_type": "code",
   "execution_count": 19,
   "metadata": {},
   "outputs": [
    {
     "name": "stdout",
     "output_type": "stream",
     "text": [
      "Archalbot\n"
     ]
    }
   ],
   "source": [
    "if WRCtoArchalBot_check:\n",
    "    print(\"Archalbot\")\n",
    "elif WRCtoMustangChowk_check:\n",
    "    print(\"MustangChowk\")\n",
    "else:\n",
    "    print(\"Lights not installed in the route selected\")"
   ]
  },
  {
   "cell_type": "code",
   "execution_count": 21,
   "metadata": {},
   "outputs": [
    {
     "ename": "AttributeError",
     "evalue": "'FirebaseApplication' object has no attribute 'listener'",
     "output_type": "error",
     "traceback": [
      "\u001b[0;31m---------------------------------------------------------------------------\u001b[0m",
      "\u001b[0;31mAttributeError\u001b[0m                            Traceback (most recent call last)",
      "\u001b[0;32m<ipython-input-21-97cedd47ab8c>\u001b[0m in \u001b[0;36m<module>\u001b[0;34m\u001b[0m\n\u001b[0;32m----> 1\u001b[0;31m \u001b[0mfirebase\u001b[0m\u001b[0;34m.\u001b[0m\u001b[0mlistener\u001b[0m\u001b[0;34m(\u001b[0m\u001b[0;34m)\u001b[0m\u001b[0;34m\u001b[0m\u001b[0;34m\u001b[0m\u001b[0m\n\u001b[0m",
      "\u001b[0;31mAttributeError\u001b[0m: 'FirebaseApplication' object has no attribute 'listener'"
     ]
    }
   ],
   "source": [
    "firebase.listener()"
   ]
  },
  {
   "cell_type": "code",
   "execution_count": null,
   "metadata": {},
   "outputs": [],
   "source": []
  }
 ],
 "metadata": {
  "kernelspec": {
   "display_name": "Python 3",
   "language": "python",
   "name": "python3"
  },
  "language_info": {
   "codemirror_mode": {
    "name": "ipython",
    "version": 3
   },
   "file_extension": ".py",
   "mimetype": "text/x-python",
   "name": "python",
   "nbconvert_exporter": "python",
   "pygments_lexer": "ipython3",
   "version": "3.6.9"
  }
 },
 "nbformat": 4,
 "nbformat_minor": 4
}
